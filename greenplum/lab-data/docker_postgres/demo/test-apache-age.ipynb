{
 "cells": [
  {
   "cell_type": "markdown",
   "id": "0e5737ed-ad83-4902-b551-ddd413f13475",
   "metadata": {},
   "source": [
    "# Example - Using Python to connect to PG Apache AGE\n",
    "\n",
    "- reference: https://age.apache.org/getstarted/quickstart\n",
    "- to install `apache-age-python`, code compile is currently required:\n",
    "\n",
    "```shell\n",
    "sudo apt-get -y install gcc libpq-dev \"postgresql-client-${VER_PG}\"\n",
    "```"
   ]
  },
  {
   "cell_type": "code",
   "execution_count": null,
   "id": "c0fa8e36-c263-4f95-b715-670ee760167d",
   "metadata": {},
   "outputs": [],
   "source": [
    "!  sudo apt-get update && sudo apt-get install -y lsb-release gcc \\\n",
    "&& echo \"deb https://apt.postgresql.org/pub/repos/apt $(lsb_release -cs)-pgdg main\" | sudo tee /etc/apt/sources.list.d/pgdg.list \\\n",
    "&& curl \"https://www.postgresql.org/media/keys/ACCC4CF8.asc\" | sudo tee /etc/apt/trusted.gpg.d/postgresql.asc \\\n",
    "&& sudo apt-get update && sudo apt-get -y install libpq-dev postgresql-client-16 \\\n",
    "&& pip install apache-age-python pandas"
   ]
  },
  {
   "cell_type": "markdown",
   "id": "f6412be0-032c-4020-8c66-b310c1928f2d",
   "metadata": {},
   "source": [
    "# Connect to Postgresql"
   ]
  },
  {
   "cell_type": "code",
   "execution_count": null,
   "id": "1700acf5-8cc6-495a-ab7d-44115cdc7b94",
   "metadata": {},
   "outputs": [],
   "source": [
    "import age\n",
    "import psycopg2\n",
    "import pandas as pd"
   ]
  },
  {
   "cell_type": "code",
   "execution_count": null,
   "id": "eba20d53-da05-489a-b27c-7bacbf013d2a",
   "metadata": {},
   "outputs": [],
   "source": [
    "pd.options.display.max_rows = 999\n",
    "pd.options.display.max_colwidth = 999"
   ]
  },
  {
   "cell_type": "code",
   "execution_count": null,
   "id": "dac7a486-6fc8-43f5-88f9-ed57d507becb",
   "metadata": {},
   "outputs": [],
   "source": [
    "conn = psycopg2.connect(host=\"db-postgres\", port=\"5432\", dbname=\"postgres\", user=\"postgres\", password=\"postgres\")\n",
    "conn.set_session(autocommit=True)"
   ]
  },
  {
   "cell_type": "code",
   "execution_count": null,
   "id": "ed838228-5674-4b21-9856-67b0142147a0",
   "metadata": {},
   "outputs": [],
   "source": [
    "def Q(sql: str):\n",
    "    return pd.read_sql(sql, conn, )"
   ]
  },
  {
   "cell_type": "markdown",
   "id": "ba98c50c-d503-457b-a268-b32ee5383bee",
   "metadata": {},
   "source": [
    "## Check if PG extension `age` is installed"
   ]
  },
  {
   "cell_type": "code",
   "execution_count": null,
   "id": "e4d5cf63-fab2-4a4c-a60e-6f3783109033",
   "metadata": {},
   "outputs": [],
   "source": [
    "Q('''SELECT a.name, e.extversion AS installed, a.default_version AS avaliable, a.comment --e.extowner, e.extnamespace, e.extrelocatable\n",
    "    FROM pg_available_extensions AS a LEFT JOIN pg_extension AS e ON a.name = e.extname\n",
    "    ORDER BY name;\n",
    "''')"
   ]
  },
  {
   "cell_type": "markdown",
   "id": "9826583f-97c3-4410-9bb3-38c9ed297024",
   "metadata": {},
   "source": [
    "# Start to Execute Cypher query with the help of `age`"
   ]
  },
  {
   "cell_type": "code",
   "execution_count": null,
   "id": "11aeb3e5-eee6-4334-a54a-63baaedb44d8",
   "metadata": {},
   "outputs": [],
   "source": [
    "with conn.cursor() as cur:\n",
    "    cur.execute(\"\"\"\n",
    "LOAD 'age';\n",
    "SET search_path = ag_catalog, \"$user\", public;\n",
    "\"\"\")"
   ]
  },
  {
   "cell_type": "markdown",
   "id": "102f3243-e32e-4454-9ad4-0ecfdac294f0",
   "metadata": {},
   "source": [
    "## Create a graph called `graph_a`"
   ]
  },
  {
   "cell_type": "code",
   "execution_count": null,
   "id": "8ed0aa63-0802-4970-a237-a89b8379f83f",
   "metadata": {},
   "outputs": [],
   "source": [
    "Q('''SELECT * FROM ag_catalog.create_graph('graph_a');''')"
   ]
  },
  {
   "cell_type": "markdown",
   "id": "8afa7429-6b94-4ea3-8f39-03a1e98dd000",
   "metadata": {},
   "source": [
    "## List all graphs using SQL table `ag_catalog.ag_graph`"
   ]
  },
  {
   "cell_type": "code",
   "execution_count": null,
   "id": "e2bc5774-d1dc-4869-a375-953c3bcd1f2b",
   "metadata": {},
   "outputs": [],
   "source": [
    "Q('''SELECT * FROM ag_catalog.ag_graph;''')"
   ]
  },
  {
   "cell_type": "markdown",
   "id": "2f1398f8-0925-46a8-af2c-77acf1a58b7b",
   "metadata": {},
   "source": [
    "## List all all label information using SQL table `ag_catalog.ag_label`"
   ]
  },
  {
   "cell_type": "code",
   "execution_count": null,
   "id": "efd550c1-5423-439e-b490-d8e7363671ee",
   "metadata": {},
   "outputs": [],
   "source": [
    "Q('''\n",
    "SELECT * FROM ag_catalog.ag_label;\n",
    "''')"
   ]
  },
  {
   "cell_type": "markdown",
   "id": "30c15951-e0c1-4656-b0d3-9468f2751b76",
   "metadata": {},
   "source": [
    "## Create an entity Type `Person` in graph `graph_a`"
   ]
  },
  {
   "cell_type": "code",
   "execution_count": null,
   "id": "7accdb6e-8559-46a7-b614-690e570a5539",
   "metadata": {},
   "outputs": [],
   "source": [
    "Q('''\n",
    "SELECT ag_catalog.create_vlabel('graph_a', 'Person');\n",
    "''')"
   ]
  },
  {
   "cell_type": "markdown",
   "id": "d34384f5-aee6-439d-b9e2-9c443ec28f90",
   "metadata": {},
   "source": [
    "## Create two nodes and an edge"
   ]
  },
  {
   "cell_type": "code",
   "execution_count": null,
   "id": "239d7f0c-9441-4bc4-91cf-082ab07ec0ef",
   "metadata": {},
   "outputs": [],
   "source": [
    "Q('''\n",
    "SELECT * FROM cypher('graph_a', $$\n",
    "CREATE (:Person {name: 'Daedalus'})-[:FATHER_OF]->(:Person {name: 'Icarus'})\n",
    "$$) AS (a agtype);\n",
    "''')"
   ]
  },
  {
   "cell_type": "markdown",
   "id": "92d11a05-6aa0-4e8e-a207-24bd47671f53",
   "metadata": {},
   "source": [
    "## List all information in `ag_catalog.ag_label`"
   ]
  },
  {
   "cell_type": "code",
   "execution_count": null,
   "id": "49b20c42-8cf8-45d6-bd3c-d63904b2d65e",
   "metadata": {},
   "outputs": [],
   "source": [
    "Q('''\n",
    "SELECT * FROM ag_catalog.ag_label ORDER BY kind, name;\n",
    "''')"
   ]
  },
  {
   "cell_type": "markdown",
   "id": "759f4273-b707-4582-8a7a-3ab1b9d3a597",
   "metadata": {},
   "source": [
    "## Execute a Cypher query"
   ]
  },
  {
   "cell_type": "code",
   "execution_count": null,
   "id": "8e61d6d7-74ee-41f0-9c32-bd13b97e0974",
   "metadata": {},
   "outputs": [],
   "source": [
    "Q('''\n",
    "SELECT * FROM cypher('graph_a', $$ \n",
    "    MATCH (v:Person)\n",
    "    RETURN v.name\n",
    "$$) AS (result1 agtype);\n",
    "''')"
   ]
  }
 ],
 "metadata": {
  "kernelspec": {
   "display_name": "Python 3 (ipykernel)",
   "language": "python",
   "name": "python3"
  },
  "language_info": {
   "codemirror_mode": {
    "name": "ipython",
    "version": 3
   },
   "file_extension": ".py",
   "mimetype": "text/x-python",
   "name": "python",
   "nbconvert_exporter": "python",
   "pygments_lexer": "ipython3",
   "version": "3.11.8"
  }
 },
 "nbformat": 4,
 "nbformat_minor": 5
}
